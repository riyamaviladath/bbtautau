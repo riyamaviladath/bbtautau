{
 "cells": [
  {
   "cell_type": "code",
   "execution_count": null,
   "metadata": {},
   "outputs": [],
   "source": [
    "from pathlib import Path\n",
    "import pandas as pd"
   ]
  },
  {
   "cell_type": "code",
   "execution_count": null,
   "metadata": {},
   "outputs": [],
   "source": [
    "MAIN_DIR = Path(\"/home/users/lumori/bbtautau/\")\n",
    "for c in [\"hh\", \"hm\", \"he\"]:\n",
    "    plot_dir = MAIN_DIR / f\"plots/SensitivityStudy/25Mar7{c}\"\n",
    "    df = pd.read_csv(plot_dir / \"2022_2022EE_2023_2023BPix-results.csv\")\n",
    "    df = df.rename(columns={\"Unnamed: 0\": c})\n",
    "    # df = df.drop(index=3)\n",
    "    print(df.to_markdown(index=False))\n",
    "    print(\"\\n\")"
   ]
  },
  {
   "cell_type": "markdown",
   "metadata": {},
   "source": [
    "| hh                 |        B=1 |        B=2 |       B=8 |   Max_significance |\n",
    "|:-------------------|-----------:|-----------:|----------:|-------------------:|\n",
    "| Cut_Xbb            |  0.989655  |  0.989655  |  0.906897 |           0.927586 |\n",
    "| Cut_Xtt            |  0.937931  |  0.886207  |  0.989655 |           0.989655 |\n",
    "| Sig_Yield          |  0.0383306 |  0.0391713 |  0.184026 |           0.159032 |\n",
    "| BG_Yield           |  1         |  2         |  8        |           5        |\n",
    "| Limit              | 52.1776    | 72.2066    | 30.7395   |          28.121    |\n",
    "| Limit_scaled_22_24 | 30.0287    | 41.5555    | 17.6908   |          16.1839   |\n",
    "| Limit_scaled_Run3  | 21.5501    | 29.8224    | 12.6959   |          11.6144   |\n",
    "\n",
    "\n",
    "| hm                 |      B=1 |      B=2 |       B=8 |   Max_significance |\n",
    "|:-------------------|---------:|---------:|----------:|-------------------:|\n",
    "| Cut_Xbb            | 0.731034 | 0.731034 |  0.731034 |           0.731034 |\n",
    "| Cut_Xtt            | 0.989655 | 0.989655 |  0.97931  |           0.989655 |\n",
    "| Sig_Yield          | 0.253505 | 0.253505 |  0.261433 |           0.253505 |\n",
    "| BG_Yield           | 1        | 1        |  7        |           1        |\n",
    "| Limit              | 7.88941  | 7.88941  | 20.2404   |           7.88941  |\n",
    "| Limit_scaled_22_24 | 4.54042  | 4.54042  | 11.6485   |           4.54042  |\n",
    "| Limit_scaled_Run3  | 3.25845  | 3.25845  |  8.3596   |           3.25845  |\n",
    "\n",
    "\n",
    "| he                 |        B=1 |        B=2 |       B=8 |   Max_significance |\n",
    "|:-------------------|-----------:|-----------:|----------:|-------------------:|\n",
    "| Cut_Xbb            |  0.97931   |  0.958621  |  0.855172 |           0.855172 |\n",
    "| Cut_Xtt            |  0.989655  |  0.989655  |  0.989655 |           0.989655 |\n",
    "| Sig_Yield          |  0.0578034 |  0.0969253 |  0.196265 |           0.196265 |\n",
    "| BG_Yield           |  1         |  2         |  8        |           8        |\n",
    "| Limit              | 34.6       | 29.1815    | 28.8226   |          28.8226   |\n",
    "| Limit_scaled_22_24 | 19.9126    | 16.7942    | 16.5877   |          16.5877   |\n",
    "| Limit_scaled_Run3  | 14.2903    | 12.0524    | 11.9042   |          11.9042   |"
   ]
  },
  {
   "cell_type": "markdown",
   "metadata": {},
   "source": [
    "\n",
    "| Year           |   Lumi [fb^-1] |       Datasets |      Eras |   \n",
    "|:-------------------|-----------:|-----------:|----------:|\n",
    "| 2022          |  8.0 |  0.0410527 |  |    \n",
    "| 2022EE           |  26.7        |  2         |  8        |  \n",
    "| 2023              | 17.8     | 68.8974    | 50.8104   |    \n",
    "| 2023BPix | 9.5   | 22.8926    | 16.8828   |    "
   ]
  },
  {
   "cell_type": "markdown",
   "metadata": {},
   "source": []
  }
 ],
 "metadata": {
  "kernelspec": {
   "display_name": "Python 3",
   "language": "python",
   "name": "python3"
  },
  "language_info": {
   "codemirror_mode": {
    "name": "ipython",
    "version": 3
   },
   "file_extension": ".py",
   "mimetype": "text/x-python",
   "name": "python",
   "nbconvert_exporter": "python",
   "pygments_lexer": "ipython3",
   "version": "3.11.0"
  }
 },
 "nbformat": 4,
 "nbformat_minor": 2
}
