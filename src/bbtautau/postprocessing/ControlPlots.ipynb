{
 "cells": [
  {
   "cell_type": "markdown",
   "metadata": {},
   "source": [
    "# Control Plots\n",
    "\n",
    "Author(s): Raghav Kansal"
   ]
  },
  {
   "cell_type": "code",
   "execution_count": null,
   "metadata": {},
   "outputs": [],
   "source": [
    "from pathlib import Path\n",
    "\n",
    "import pandas as pd\n",
    "import numpy as np\n",
    "\n",
    "import matplotlib.pyplot as plt\n",
    "import mplhep as hep\n",
    "from matplotlib import colors\n",
    "\n",
    "from boostedhh import utils, hh_vars, plotting\n",
    "from boostedhh.utils import PAD_VAL\n",
    "from bbtautau.postprocessing import Samples, postprocessing\n",
    "from bbtautau.postprocessing.Samples import CHANNELS, SAMPLES, SIGNALS\n",
    "import bbtautau.postprocessing.utils as putils\n",
    "\n",
    "import logging\n",
    "\n",
    "logging.basicConfig(level=logging.INFO, format=\"%(asctime)s - %(levelname)s - %(message)s\")\n",
    "logger = logging.getLogger(\"boostedhh.utils\")\n",
    "logger.setLevel(logging.DEBUG)"
   ]
  },
  {
   "cell_type": "code",
   "execution_count": 2,
   "metadata": {},
   "outputs": [],
   "source": [
    "# automatically reloads imported files on edits\n",
    "%load_ext autoreload\n",
    "%autoreload 2"
   ]
  },
  {
   "cell_type": "code",
   "execution_count": 3,
   "metadata": {},
   "outputs": [],
   "source": [
    "MAIN_DIR = Path(\"../../../\")\n",
    "CHANNEL = CHANNELS[\"hh\"]  # options: \"hh\", \"he\", \"hm\"\n",
    "\n",
    "plot_dir = MAIN_DIR / f\"plots/ControlPlots/25Apr17{CHANNEL.key}\"\n",
    "plot_dir.mkdir(parents=True, exist_ok=True)\n",
    "\n",
    "year = \"2022\"\n",
    "\n",
    "base_dir = Path(\"/ceph/cms/store/user/rkansal/bbtautau/skimmer/\")\n",
    "data_paths = {\n",
    "    \"signal\": base_dir / \"25Apr17bbpresel_v12_private_signal\",\n",
    "    \"data\": base_dir / \"25Apr17bbpresel_v12_private_signal\",\n",
    "    \"bg\": base_dir / \"25Apr17bbpresel_v12_private_signal\",\n",
    "}\n",
    "\n",
    "sigs = {s + CHANNEL.key: SAMPLES[s + CHANNEL.key] for s in SIGNALS}\n",
    "bgs = {bkey: b for bkey, b in SAMPLES.items() if b.get_type() == \"bg\"}"
   ]
  },
  {
   "cell_type": "markdown",
   "metadata": {},
   "source": [
    "## Load samples"
   ]
  },
  {
   "cell_type": "code",
   "execution_count": null,
   "metadata": {},
   "outputs": [],
   "source": [
    "# dictionary that will contain all information (from all samples)\n",
    "events_dict = postprocessing.load_samples(\n",
    "    year,\n",
    "    CHANNEL,\n",
    "    data_paths,\n",
    "    load_data=True,\n",
    "    load_bgs=True,  # , filters_dict=postprocessing.bb_filters(num_fatjets=3)\n",
    ")\n",
    "cutflow = pd.DataFrame(index=list(events_dict.keys()))\n",
    "\n",
    "utils.add_to_cutflow(events_dict, \"Preselection\", \"finalWeight\", cutflow)\n",
    "cutflow"
   ]
  },
  {
   "cell_type": "markdown",
   "metadata": {},
   "source": [
    "Triggers"
   ]
  },
  {
   "cell_type": "code",
   "execution_count": null,
   "metadata": {},
   "outputs": [],
   "source": [
    "postprocessing.apply_triggers(events_dict, year, CHANNEL)\n",
    "utils.add_to_cutflow(events_dict, \"Triggers\", \"finalWeight\", cutflow)\n",
    "cutflow"
   ]
  },
  {
   "cell_type": "markdown",
   "metadata": {},
   "source": [
    "bbtautau assignment"
   ]
  },
  {
   "cell_type": "code",
   "execution_count": null,
   "metadata": {},
   "outputs": [],
   "source": [
    "bbtt_masks = postprocessing.bbtautau_assignment(events_dict, CHANNEL)"
   ]
  },
  {
   "cell_type": "markdown",
   "metadata": {},
   "source": [
    "## Control Plots"
   ]
  },
  {
   "cell_type": "code",
   "execution_count": null,
   "metadata": {},
   "outputs": [],
   "source": [
    "putils.get_var(events_dict[\"bbtthh\"], bbtt_masks[\"bbtthh\"], \"ttFatJetPt\")"
   ]
  },
  {
   "cell_type": "code",
   "execution_count": null,
   "metadata": {},
   "outputs": [],
   "source": [
    "cutlabel = (\n",
    "    r\"$\\geq 1$ AK8 jet with $p_T > 250$ & $m_{reg} > 50$ GeV\"\n",
    "    \"\\n\"\n",
    "    r\"$\\geq 1$ AK8 jet with $T_{Xbb} > 0.3$\"\n",
    "    \"\\n\"\n",
    "    r\"$\\geq 2$ AK8 jets with $p_T > 200$ GeV\"\n",
    ")\n",
    "\n",
    "postprocessing.control_plots(\n",
    "    events_dict,\n",
    "    CHANNEL,\n",
    "    sigs,\n",
    "    bgs,\n",
    "    postprocessing.control_plot_vars,\n",
    "    plot_dir,\n",
    "    year,\n",
    "    bbtt_masks=bbtt_masks,\n",
    "    cutlabel=cutlabel,\n",
    "    plot_significance=True,\n",
    "    show=True,\n",
    ")"
   ]
  },
  {
   "cell_type": "code",
   "execution_count": null,
   "metadata": {},
   "outputs": [],
   "source": []
  }
 ],
 "metadata": {
  "kernelspec": {
   "display_name": "python39",
   "language": "python",
   "name": "python3"
  },
  "language_info": {
   "codemirror_mode": {
    "name": "ipython",
    "version": 3
   },
   "file_extension": ".py",
   "mimetype": "text/x-python",
   "name": "python",
   "nbconvert_exporter": "python",
   "pygments_lexer": "ipython3",
   "version": "3.9.15"
  }
 },
 "nbformat": 4,
 "nbformat_minor": 2
}
