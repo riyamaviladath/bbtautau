{
 "cells": [
  {
   "cell_type": "markdown",
   "metadata": {},
   "source": [
    "# Simple sensitivity study\n",
    "\n",
    "Author: Raghav Kansal"
   ]
  },
  {
   "cell_type": "code",
   "execution_count": null,
   "metadata": {},
   "outputs": [],
   "source": [
    "from SensitivityStudy import Analyser\n",
    "import pandas as pd\n",
    "from pathlib import Path"
   ]
  },
  {
   "cell_type": "code",
   "execution_count": null,
   "metadata": {},
   "outputs": [],
   "source": [
    "# automatically reloads imported files on edits\n",
    "%load_ext autoreload\n",
    "%autoreload 2"
   ]
  },
  {
   "cell_type": "code",
   "execution_count": null,
   "metadata": {},
   "outputs": [],
   "source": [
    "MAIN_DIR = Path(\"/home/users/lumori/bbtautau/\")\n",
    "SIG_KEYS = {\"hh\": \"bbtthh\", \"he\": \"bbtthe\", \"hm\": \"bbtthm\"}  # We should get rid of this\n",
    "\n",
    "data_dir_2022 = \"/ceph/cms/store/user/rkansal/bbtautau/skimmer/25Apr17bbpresel_v12_private_signal\"\n",
    "data_dir_otheryears = \"/ceph/cms/store/user/rkansal/bbtautau/skimmer/25Apr24Fix_v12_private_signal\"\n",
    "\n",
    "data_paths = {\n",
    "    \"2022\": {\n",
    "        \"data\": Path(data_dir_2022),\n",
    "        \"signal\": Path(data_dir_2022),\n",
    "    },\n",
    "    \"2022EE\": {\n",
    "        \"data\": Path(data_dir_otheryears),\n",
    "        \"signal\": Path(data_dir_otheryears),\n",
    "    },\n",
    "    \"2023\": {\n",
    "        \"data\": Path(data_dir_otheryears),\n",
    "        \"signal\": Path(data_dir_otheryears),\n",
    "    },\n",
    "    \"2023BPix\": {\n",
    "        \"data\": Path(data_dir_otheryears),\n",
    "        \"signal\": Path(data_dir_otheryears),\n",
    "    },\n",
    "}\n",
    "\n",
    "years = [\"2022EE\"]  # , \"2022EE\", \"2023\", \"2023BPix\"]\n",
    "c = \"hh\"\n",
    "test_mode = True  # reduces size of data to run all quickly\n",
    "\n",
    "analyser = Analyser(years, c, test_mode=test_mode)\n",
    "for year in years:\n",
    "    analyser.load_year(year)"
   ]
  },
  {
   "cell_type": "code",
   "execution_count": null,
   "metadata": {},
   "outputs": [],
   "source": [
    "analyser.build_tagger_dict()"
   ]
  },
  {
   "cell_type": "code",
   "execution_count": null,
   "metadata": {},
   "outputs": [],
   "source": [
    "analyser.compute_rocs(years)"
   ]
  },
  {
   "cell_type": "code",
   "execution_count": null,
   "metadata": {},
   "outputs": [],
   "source": [
    "analyser.plot_rocs(years, test_mode=test_mode)"
   ]
  },
  {
   "cell_type": "code",
   "execution_count": null,
   "metadata": {},
   "outputs": [],
   "source": [
    "analyser.plot_mass(years, test_mode=test_mode)"
   ]
  },
  {
   "cell_type": "code",
   "execution_count": null,
   "metadata": {},
   "outputs": [],
   "source": [
    "analyser.prepare_sensitivity(years)"
   ]
  },
  {
   "cell_type": "code",
   "execution_count": null,
   "metadata": {},
   "outputs": [],
   "source": [
    "results = {}\n",
    "for B in [1, 2, 8]:\n",
    "    yields_B, cuts_B, yields_max_significance, cuts_max_significance = analyser.sig_bkg_opt(\n",
    "        years, gridsize=30, B=B, plot=True\n",
    "    )\n",
    "    sig_yield, bkg_yield = yields_B\n",
    "    cut_bb, cut_tt = cuts_B\n",
    "    sig_yield_max_sig, bkg_yield_max_sig = (\n",
    "        yields_max_significance  # not very clean rn, can be improved but should be the same\n",
    "    )\n",
    "    cut_bb_max_sig, cut_tt_max_sig = cuts_max_significance\n",
    "    results[f\"B={B}\"] = analyser.as_df(cut_bb, cut_tt, sig_yield, bkg_yield, years)\n",
    "    print(\"done with B=\", B)\n",
    "\n",
    "results[\"Max_significance\"] = analyser.as_df(\n",
    "    cut_bb_max_sig, cut_tt_max_sig, sig_yield_max_sig, bkg_yield_max_sig, years\n",
    ")\n",
    "results_df = pd.concat(results, axis=0)\n",
    "results_df.index = results_df.index.droplevel(1)\n",
    "print(c, \"\\n\", results_df.T.to_markdown())\n",
    "results_df.T.to_csv(analyser.plot_dir / f\"{'_'.join(years)}-results{'_fast' * test_mode}.csv\")"
   ]
  },
  {
   "cell_type": "code",
   "execution_count": null,
   "metadata": {},
   "outputs": [],
   "source": []
  }
 ],
 "metadata": {
  "kernelspec": {
   "display_name": "Python 3",
   "language": "python",
   "name": "python3"
  },
  "language_info": {
   "codemirror_mode": {
    "name": "ipython",
    "version": 3
   },
   "file_extension": ".py",
   "mimetype": "text/x-python",
   "name": "python",
   "nbconvert_exporter": "python",
   "pygments_lexer": "ipython3",
   "version": "3.11.0"
  }
 },
 "nbformat": 4,
 "nbformat_minor": 2
}
