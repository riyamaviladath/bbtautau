{
 "cells": [
  {
   "cell_type": "markdown",
   "metadata": {},
   "source": [
    "# Templates\n",
    "\n",
    "Author(s): Raghav Kansal"
   ]
  },
  {
   "cell_type": "code",
   "execution_count": 1,
   "metadata": {},
   "outputs": [],
   "source": [
    "from pathlib import Path\n",
    "\n",
    "import pandas as pd\n",
    "import numpy as np\n",
    "\n",
    "import matplotlib.pyplot as plt\n",
    "import mplhep as hep\n",
    "from matplotlib import colors\n",
    "\n",
    "from boostedhh import utils, hh_vars, plotting\n",
    "from boostedhh.utils import PAD_VAL, Cutflow\n",
    "from bbtautau.postprocessing import Samples, Regions, postprocessing\n",
    "from bbtautau.postprocessing.Samples import CHANNELS, SAMPLES, SIGNALS\n",
    "import bbtautau.postprocessing.utils as putils\n",
    "from bbtautau.postprocessing.utils import LoadedSample\n",
    "\n",
    "import logging\n",
    "\n",
    "logging.basicConfig(level=logging.INFO, format=\"%(asctime)s - %(levelname)s - %(message)s\")\n",
    "logger = logging.getLogger(\"boostedhh.utils\")\n",
    "logger.setLevel(logging.DEBUG)"
   ]
  },
  {
   "cell_type": "code",
   "execution_count": 2,
   "metadata": {},
   "outputs": [],
   "source": [
    "# automatically reloads imported files on edits\n",
    "%load_ext autoreload\n",
    "%autoreload 2"
   ]
  },
  {
   "cell_type": "code",
   "execution_count": 3,
   "metadata": {},
   "outputs": [],
   "source": [
    "MAIN_DIR = Path(\"../../../\")\n",
    "CHANNEL = CHANNELS[\"he\"]  # options: \"hh\", \"he\", \"hm\"\n",
    "\n",
    "tag = \"25Apr23\"\n",
    "year = \"2022\"\n",
    "\n",
    "plot_dir = MAIN_DIR / f\"plots/Templates/{tag}/{CHANNEL.key}\"\n",
    "plot_dir.mkdir(parents=True, exist_ok=True)\n",
    "\n",
    "templates_dir = Path(f\"./templates/{tag}/{CHANNEL.key}\")\n",
    "(templates_dir / \"cutflows\" / year).mkdir(parents=True, exist_ok=True)\n",
    "\n",
    "base_dir = Path(\"/ceph/cms/store/user/rkansal/bbtautau/skimmer/\")\n",
    "data_paths = {\n",
    "    \"signal\": base_dir / \"25Apr17bbpresel_v12_private_signal\",\n",
    "    \"data\": base_dir / \"25Apr17bbpresel_v12_private_signal\",\n",
    "    \"bg\": base_dir / \"25Apr17bbpresel_v12_private_signal\",\n",
    "}\n",
    "\n",
    "sigs = {s + CHANNEL.key: SAMPLES[s + CHANNEL.key] for s in SIGNALS}\n",
    "bgs = {bkey: b for bkey, b in SAMPLES.items() if b.get_type() == \"bg\"}"
   ]
  },
  {
   "cell_type": "code",
   "execution_count": null,
   "metadata": {},
   "outputs": [],
   "source": [
    "from bbtautau.HLTs import HLTs\n",
    "\n",
    "trigdict = postprocessing.trigger_filter(HLTs.hlts_list_by_dtype(year), year)\n",
    "trigdict[\"signal\"]"
   ]
  },
  {
   "cell_type": "markdown",
   "metadata": {},
   "source": [
    "## Load samples"
   ]
  },
  {
   "cell_type": "code",
   "execution_count": null,
   "metadata": {},
   "outputs": [],
   "source": [
    "# dictionary that will contain all information (from all samples)\n",
    "events_dict = postprocessing.load_samples(\n",
    "    year,\n",
    "    CHANNEL,\n",
    "    data_paths,\n",
    "    load_data=True,\n",
    "    load_bgs=True,\n",
    "    filters_dict=postprocessing.bb_filters(num_fatjets=3, bb_cut=0.8),\n",
    "    loaded_samples=True,\n",
    ")\n",
    "cutflow = utils.Cutflow(samples=events_dict)\n",
    "cutflow.add_cut(events_dict, \"Preselection\", \"finalWeight\")\n",
    "cutflow.cutflow"
   ]
  },
  {
   "cell_type": "markdown",
   "metadata": {},
   "source": [
    "Triggers"
   ]
  },
  {
   "cell_type": "code",
   "execution_count": null,
   "metadata": {},
   "outputs": [],
   "source": [
    "postprocessing.apply_triggers(events_dict, year, CHANNEL)\n",
    "cutflow.add_cut(events_dict, \"Triggers\", \"finalWeight\")\n",
    "cutflow.cutflow"
   ]
  },
  {
   "cell_type": "markdown",
   "metadata": {},
   "source": [
    "bbtautau assignment"
   ]
  },
  {
   "cell_type": "code",
   "execution_count": 29,
   "metadata": {},
   "outputs": [],
   "source": [
    "postprocessing.bbtautau_assignment(events_dict, CHANNEL)"
   ]
  },
  {
   "cell_type": "markdown",
   "metadata": {},
   "source": [
    "Templates"
   ]
  },
  {
   "cell_type": "code",
   "execution_count": null,
   "metadata": {},
   "outputs": [],
   "source": [
    "# CHANNEL = Samples.CHANNELS[\"hh\"]  # reload for new cuts\n",
    "templates = postprocessing.get_templates(\n",
    "    events_dict,\n",
    "    year,\n",
    "    sigs,\n",
    "    bgs,\n",
    "    CHANNEL,\n",
    "    postprocessing.shape_vars,\n",
    "    {},\n",
    "    pass_ylim=150,\n",
    "    fail_ylim=1e5,\n",
    "    sig_scale_dict={f\"bbtt{CHANNEL.key}\": 300, f\"vbfbbtt-k2v0{CHANNEL.key}\": 40},\n",
    "    plot_dir=plot_dir,\n",
    "    template_dir=templates_dir,\n",
    "    show=True,\n",
    ")"
   ]
  },
  {
   "cell_type": "code",
   "execution_count": null,
   "metadata": {},
   "outputs": [],
   "source": [
    "postprocessing.save_templates(\n",
    "    templates, templates_dir / f\"{year}_templates.pkl\", True, postprocessing.shape_vars\n",
    ")"
   ]
  },
  {
   "cell_type": "code",
   "execution_count": null,
   "metadata": {},
   "outputs": [],
   "source": []
  }
 ],
 "metadata": {
  "kernelspec": {
   "display_name": "python39",
   "language": "python",
   "name": "python3"
  },
  "language_info": {
   "codemirror_mode": {
    "name": "ipython",
    "version": 3
   },
   "file_extension": ".py",
   "mimetype": "text/x-python",
   "name": "python",
   "nbconvert_exporter": "python",
   "pygments_lexer": "ipython3",
   "version": "3.9.15"
  }
 },
 "nbformat": 4,
 "nbformat_minor": 2
}
