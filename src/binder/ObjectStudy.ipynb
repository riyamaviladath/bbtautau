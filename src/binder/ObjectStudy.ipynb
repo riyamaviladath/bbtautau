{
 "cells": [
  {
   "cell_type": "code",
   "execution_count": null,
   "metadata": {},
   "outputs": [],
   "source": [
    "from pathlib import Path\n",
    "\n",
    "import uproot\n",
    "import awkward as ak\n",
    "from coffea import nanoevents\n",
    "\n",
    "import numpy as np\n",
    "\n",
    "import matplotlib.pyplot as plt\n",
    "import mplhep as hep\n",
    "from matplotlib import colors\n",
    "\n",
    "from boostedhh.processors.utils import GEN_FLAGS, PDGID, pad_val\n",
    "from bbtautau.processors.GenSelection import gen_selection_HHbbtautau\n",
    "from bbtautau import bbtautau_vars"
   ]
  },
  {
   "cell_type": "code",
   "execution_count": null,
   "metadata": {},
   "outputs": [],
   "source": [
    "# automatically reloads imported files on edits\n",
    "%load_ext autoreload\n",
    "%autoreload 2"
   ]
  },
  {
   "cell_type": "code",
   "execution_count": null,
   "metadata": {},
   "outputs": [],
   "source": [
    "# MAIN_DIR = Path(\"../../\")\n",
    "\n",
    "# plot_dir = MAIN_DIR / \"plots/TriggerStudy/24Nov6\"\n",
    "# plot_dir.mkdir(parents=True, exist_ok=True)\n",
    "\n",
    "year = \"2022\""
   ]
  },
  {
   "cell_type": "code",
   "execution_count": null,
   "metadata": {},
   "outputs": [],
   "source": [
    "events = nanoevents.NanoEventsFactory.from_root(\n",
    "    \"root://cmseos.fnal.gov//store/user/lpcdihiggsboost/NanoAOD_v12_ParT/rkansal/2022/HHbbtt/GluGlutoHHto2B2Tau_kl-1p00_kt-1p00_c2-0p00_LHEweights_TuneCP5_13p6TeV_powheg-pythia8/GluGlutoHHto2B2Tau_kl-1p00_kt-1p00_c2-0p00_TuneCP5_13p6TeV/241028_235514/0000/Run3Summer22NanoAODv12_1-1.root\",\n",
    "    schemaclass=nanoevents.NanoAODSchema,\n",
    ").events()"
   ]
  },
  {
   "cell_type": "code",
   "execution_count": null,
   "metadata": {},
   "outputs": [],
   "source": [
    "gen_vars = gen_selection_HHbbtautau(events, events.FatJet, None)"
   ]
  },
  {
   "cell_type": "code",
   "execution_count": null,
   "metadata": {},
   "outputs": [],
   "source": [
    "trig_dR = 0.2"
   ]
  },
  {
   "cell_type": "code",
   "execution_count": null,
   "metadata": {},
   "outputs": [],
   "source": [
    "def trig_match_sel(leptons, trig_leptons, year, trigger, filterbit, ptcut, trig_dR=0.2):\n",
    "    \"\"\"\n",
    "    Returns selection for leptons which are trigger matched to the specified trigger.\n",
    "    \"\"\"\n",
    "    trigger = bbtautau_vars.HLT_dict[year][trigger][0][4:]\n",
    "    trig_fired = heevents.HLT[trigger]\n",
    "    print(f\"{trigger} rate: {ak.mean(trig_fired)}\")\n",
    "\n",
    "    filterbit = 2**filterbit\n",
    "\n",
    "    pass_trig = (trig_leptons.filterBits & filterbit) == filterbit\n",
    "    trig_l = trig_leptons[pass_trig]\n",
    "    trig_l_matched = ak.any(leptons.metric_table(trig_l) < trig_dR, axis=2)\n",
    "    trig_l_sel = trig_fired & trig_l_matched & (leptons.pt > ptcut)\n",
    "    return trig_l_sel"
   ]
  },
  {
   "cell_type": "markdown",
   "metadata": {},
   "source": [
    "## Testing Electron Selection"
   ]
  },
  {
   "cell_type": "code",
   "execution_count": null,
   "metadata": {},
   "outputs": [],
   "source": [
    "heevents = events[gen_vars[\"GenTauhe\"]]\n",
    "len(heevents) / len(events)"
   ]
  },
  {
   "cell_type": "code",
   "execution_count": null,
   "metadata": {},
   "outputs": [],
   "source": [
    "leptons = heevents.Electron\n",
    "trigobj = heevents.TrigObj\n",
    "lsel = (\n",
    "    leptons.mvaIso_WP90\n",
    "    & (leptons.pt > 20)\n",
    "    & (abs(leptons.eta) < 2.5)\n",
    "    & (abs(leptons.dz) < 0.2)\n",
    "    & (abs(leptons.dxy) < 0.045)\n",
    ")\n",
    "leptons = leptons[lsel]"
   ]
  },
  {
   "cell_type": "code",
   "execution_count": null,
   "metadata": {},
   "outputs": [],
   "source": [
    "# Trigger: (filterbit, ptcut for matched lepton)\n",
    "triggers = {\"EGamma\": (1, 31), \"ETau\": (6, 25)}\n",
    "trig_leptons = trigobj[trigobj.id == PDGID.e]\n",
    "\n",
    "TrigMatchDict = {\n",
    "    f\"ElectronTrigMatch{trigger}\": trig_match_sel(\n",
    "        leptons, trig_leptons, year, trigger, filterbit, ptcut\n",
    "    )\n",
    "    for trigger, (filterbit, ptcut) in triggers.items()\n",
    "}"
   ]
  },
  {
   "cell_type": "code",
   "execution_count": null,
   "metadata": {},
   "outputs": [],
   "source": [
    "lw = 2\n",
    "bins = np.arange(0, 4)\n",
    "plt.hist(ak.count(leptons.pt, axis=1), bins=bins, histtype=\"step\", label=\"Electrons\", linewidth=lw)\n",
    "plt.hist(\n",
    "    ak.count(leptons.pt[TrigMatchDict[\"ElectronTrigMatchEGamma\"]], axis=1),\n",
    "    bins=bins,\n",
    "    histtype=\"step\",\n",
    "    label=\"EGamma\",\n",
    "    linewidth=lw,\n",
    ")\n",
    "plt.hist(\n",
    "    ak.count(leptons.pt[TrigMatchDict[\"ElectronTrigMatchETau\"]], axis=1),\n",
    "    bins=bins,\n",
    "    histtype=\"step\",\n",
    "    label=\"ETau\",\n",
    "    linewidth=lw,\n",
    ")\n",
    "plt.legend()\n",
    "plt.show()"
   ]
  },
  {
   "cell_type": "markdown",
   "metadata": {},
   "source": [
    "## Testing Muon Selection"
   ]
  },
  {
   "cell_type": "code",
   "execution_count": null,
   "metadata": {},
   "outputs": [],
   "source": [
    "heevents = events[gen_vars[\"GenTauhm\"]]\n",
    "len(heevents) / len(events)"
   ]
  },
  {
   "cell_type": "code",
   "execution_count": null,
   "metadata": {},
   "outputs": [],
   "source": [
    "leptons = heevents.Muon\n",
    "trigobj = heevents.TrigObj"
   ]
  },
  {
   "cell_type": "code",
   "execution_count": null,
   "metadata": {},
   "outputs": [],
   "source": [
    "lsel = (\n",
    "    leptons.tightId\n",
    "    & (leptons.pt > 20)\n",
    "    & (abs(leptons.eta) < 2.4)\n",
    "    & (abs(leptons.dz) < 0.2)\n",
    "    & (abs(leptons.dxy) < 0.045)\n",
    ")\n",
    "leptons = leptons[lsel]"
   ]
  },
  {
   "cell_type": "code",
   "execution_count": null,
   "metadata": {},
   "outputs": [],
   "source": [
    "# Trigger: (filterbit, ptcut for matched lepton)\n",
    "triggers = {\"Muon\": (3, 26), \"MuonTau\": (6, 22)}\n",
    "trig_leptons = trigobj[trigobj.id == PDGID.mu]\n",
    "\n",
    "TrigMatchDict = {\n",
    "    f\"MuonTrigMatch{trigger}\": trig_match_sel(\n",
    "        leptons, trig_leptons, year, trigger, filterbit, ptcut\n",
    "    )\n",
    "    for trigger, (filterbit, ptcut) in triggers.items()\n",
    "}"
   ]
  },
  {
   "cell_type": "code",
   "execution_count": null,
   "metadata": {},
   "outputs": [],
   "source": [
    "lw = 2\n",
    "bins = np.arange(0, 4)\n",
    "\n",
    "plt.figure(figsize=(6, 6))\n",
    "plt.hist(ak.count(leptons.pt, axis=1), bins=bins, histtype=\"step\", label=\"Muons\", linewidth=lw)\n",
    "plt.hist(\n",
    "    ak.count(leptons.pt[TrigMatchDict[\"MuonTrigMatchMuon\"]], axis=1),\n",
    "    bins=bins,\n",
    "    histtype=\"step\",\n",
    "    label=\"Muon\",\n",
    "    linewidth=lw,\n",
    ")\n",
    "plt.hist(\n",
    "    ak.count(leptons.pt[TrigMatchDict[\"MuonTrigMatchMuonTau\"]], axis=1),\n",
    "    bins=bins,\n",
    "    histtype=\"step\",\n",
    "    label=\"MuonTau\",\n",
    "    linewidth=lw,\n",
    ")\n",
    "plt.legend()\n",
    "plt.show()"
   ]
  },
  {
   "cell_type": "markdown",
   "metadata": {},
   "source": [
    "## Testing Tau Selection"
   ]
  },
  {
   "cell_type": "code",
   "execution_count": null,
   "metadata": {},
   "outputs": [],
   "source": [
    "heevents = events[gen_vars[\"GenTauhe\"]]\n",
    "len(heevents) / len(events)"
   ]
  },
  {
   "cell_type": "code",
   "execution_count": null,
   "metadata": {},
   "outputs": [],
   "source": [
    "leptons = heevents.Tau\n",
    "trigobj = heevents.TrigObj"
   ]
  },
  {
   "cell_type": "code",
   "execution_count": null,
   "metadata": {},
   "outputs": [],
   "source": [
    "lsel = (\n",
    "    (leptons.idDeepTau2018v2p5VSjet >= 5)\n",
    "    # & (leptons.idDeepTau2018v2p5VSe >= 3)\n",
    "    & (leptons.pt > 20)\n",
    "    & (abs(leptons.eta) < 2.5)\n",
    "    & (abs(leptons.dz) < 0.2)\n",
    ")\n",
    "leptons = leptons[lsel]"
   ]
  },
  {
   "cell_type": "code",
   "execution_count": null,
   "metadata": {},
   "outputs": [],
   "source": [
    "trig_leptons = trigobj[trigobj.id == PDGID.tau]\n",
    "\n",
    "# Trigger: (filterbit, ptcut for matched lepton)\n",
    "triggers = {\"SingleTau\": (10, 185), \"DiTau\": (7, 37), \"ETau\": (8, 32), \"MuonTau\": (9, 30)}\n",
    "\n",
    "TrigMatchDict = {\n",
    "    f\"TauTrigMatch{trigger}\": trig_match_sel(leptons, trig_leptons, trigger, filterbit, ptcut)\n",
    "    for trigger, (filterbit, ptcut) in triggers.items()\n",
    "}"
   ]
  },
  {
   "cell_type": "code",
   "execution_count": null,
   "metadata": {},
   "outputs": [],
   "source": [
    "TrigMatchDict"
   ]
  },
  {
   "cell_type": "code",
   "execution_count": null,
   "metadata": {},
   "outputs": [],
   "source": [
    "leptons"
   ]
  },
  {
   "cell_type": "code",
   "execution_count": null,
   "metadata": {},
   "outputs": [],
   "source": [
    "lw = 2\n",
    "\n",
    "plt.figure(figsize=(10, 6))\n",
    "plt.hist(\n",
    "    ak.count(leptons.pt, axis=1),\n",
    "    bins=np.arange(0, 4),\n",
    "    histtype=\"step\",\n",
    "    label=\"Taus\",\n",
    "    linewidth=lw,\n",
    ")\n",
    "plt.hist(\n",
    "    ak.count(leptons[trig_1tau_sel].pt, axis=1),\n",
    "    bins=np.arange(0, 4),\n",
    "    histtype=\"step\",\n",
    "    label=\"1tau\",\n",
    "    linewidth=lw,\n",
    ")\n",
    "plt.hist(\n",
    "    ak.count(leptons[trig_ditau_sel].pt, axis=1),\n",
    "    bins=np.arange(0, 4),\n",
    "    histtype=\"step\",\n",
    "    label=\"ditau\",\n",
    "    linewidth=lw,\n",
    ")\n",
    "plt.hist(\n",
    "    ak.count(leptons[trig_etau_sel].pt, axis=1),\n",
    "    bins=np.arange(0, 4),\n",
    "    histtype=\"step\",\n",
    "    label=\"etau\",\n",
    "    linewidth=lw,\n",
    ")\n",
    "plt.hist(\n",
    "    ak.count(leptons[trig_mtau_sel].pt, axis=1),\n",
    "    bins=np.arange(0, 4),\n",
    "    histtype=\"step\",\n",
    "    label=\"mtau\",\n",
    "    linewidth=lw,\n",
    ")\n",
    "\n",
    "plt.legend()\n",
    "plt.yscale(\"log\")\n",
    "plt.show()"
   ]
  },
  {
   "cell_type": "markdown",
   "metadata": {},
   "source": [
    "Testing Jet Selections"
   ]
  },
  {
   "cell_type": "code",
   "execution_count": 110,
   "metadata": {},
   "outputs": [],
   "source": [
    "jets = events.Jet"
   ]
  },
  {
   "cell_type": "code",
   "execution_count": 122,
   "metadata": {},
   "outputs": [],
   "source": [
    "jetidtightbit = (jets.jetId & 2) == 2\n",
    "jetidtight = (\n",
    "    ((np.abs(jets.eta) <= 2.7) & jetidtightbit)\n",
    "    | (\n",
    "        ((np.abs(jets.eta) > 2.7) & (np.abs(jets.eta) <= 3.0))\n",
    "        & jetidtightbit\n",
    "        & (jets.neHEF >= 0.99)\n",
    "    )\n",
    "    | (((np.abs(jets.eta) > 3.0)) & jetidtightbit & (jets.neEmEF < 0.4))\n",
    ")\n",
    "\n",
    "jetidtightlepveto = (\n",
    "    (np.abs(jets.eta) <= 2.7) & jetidtight & (jets.muEF < 0.8) & (jets.chEmEF < 0.8)\n",
    ") | ((np.abs(jets.eta) > 2.7) & jetidtight)"
   ]
  },
  {
   "cell_type": "code",
   "execution_count": null,
   "metadata": {},
   "outputs": [],
   "source": []
  },
  {
   "cell_type": "code",
   "execution_count": 124,
   "metadata": {},
   "outputs": [
    {
     "data": {
      "text/plain": [
       "0.9525101946215394"
      ]
     },
     "execution_count": 124,
     "metadata": {},
     "output_type": "execute_result"
    }
   ],
   "source": [
    "ak.mean(jets.isTight == jetidtight)"
   ]
  },
  {
   "cell_type": "code",
   "execution_count": 121,
   "metadata": {},
   "outputs": [
    {
     "data": {
      "text/plain": [
       "<Array [[True, False, True, ... True, False]] type='25300 * var * bool'>"
      ]
     },
     "execution_count": 121,
     "metadata": {},
     "output_type": "execute_result"
    }
   ],
   "source": [
    "jetidtight"
   ]
  },
  {
   "cell_type": "code",
   "execution_count": null,
   "metadata": {},
   "outputs": [],
   "source": []
  }
 ],
 "metadata": {
  "kernelspec": {
   "display_name": "hh",
   "language": "python",
   "name": "python3"
  },
  "language_info": {
   "codemirror_mode": {
    "name": "ipython",
    "version": 3
   },
   "file_extension": ".py",
   "mimetype": "text/x-python",
   "name": "python",
   "nbconvert_exporter": "python",
   "pygments_lexer": "ipython3",
   "version": "3.11.0"
  }
 },
 "nbformat": 4,
 "nbformat_minor": 2
}
